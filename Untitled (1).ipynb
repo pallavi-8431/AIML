{
 "cells": [
  {
   "cell_type": "code",
   "execution_count": 11,
   "id": "0a1a7e97-4a1a-45bd-ae48-ce0647f62d0a",
   "metadata": {},
   "outputs": [
    {
     "ename": "NameError",
     "evalue": "name 'privot_avg_Salary' is not defined",
     "output_type": "error",
     "traceback": [
      "\u001b[1;31m---------------------------------------------------------------------------\u001b[0m",
      "\u001b[1;31mNameError\u001b[0m                                 Traceback (most recent call last)",
      "Cell \u001b[1;32mIn[11], line 2\u001b[0m\n\u001b[0;32m      1\u001b[0m \u001b[38;5;28;01mimport\u001b[39;00m \u001b[38;5;21;01mmatplotlib\u001b[39;00m\u001b[38;5;21;01m.\u001b[39;00m\u001b[38;5;21;01mpyplot\u001b[39;00m \u001b[38;5;28;01mas\u001b[39;00m \u001b[38;5;21;01mplt\u001b[39;00m\n\u001b[1;32m----> 2\u001b[0m privot_avg_Salary\u001b[38;5;241m.\u001b[39mplot(kind\u001b[38;5;241m=\u001b[39m\u001b[38;5;124m'\u001b[39m\u001b[38;5;124mbar\u001b[39m\u001b[38;5;124m'\u001b[39m,figsize\u001b[38;5;241m=\u001b[39m(\u001b[38;5;241m10\u001b[39m,\u001b[38;5;241m6\u001b[39m))\n\u001b[0;32m      3\u001b[0m plt\u001b[38;5;241m.\u001b[39mtitle(\u001b[38;5;124m'\u001b[39m\u001b[38;5;124mAverage Salary by Department\u001b[39m\u001b[38;5;124m'\u001b[39m)\n\u001b[0;32m      4\u001b[0m plt\u001b[38;5;241m.\u001b[39mylabel(\u001b[38;5;124m'\u001b[39m\u001b[38;5;124mSalary\u001b[39m\u001b[38;5;124m'\u001b[39m)\n",
      "\u001b[1;31mNameError\u001b[0m: name 'privot_avg_Salary' is not defined"
     ]
    }
   ],
   "source": [
    "import matplotlib.pyplot as plt\n",
    "privot_avg_Salary.plot(kind='bar',figsize=(10,6))\n",
    "plt.title('Average Salary by Department')\n",
    "plt.ylabel('Salary')\n",
    "plt.xlabel('Employee Name')\n",
    "plt.show()\n",
    "privot_Sum_mean_Count.columns=['Sum','Mean','Count']\n",
    "privot_Sum_mean_Count[['Sum','Mean','Count']].plot(kind='bar',figsize=(10,6))\n",
    "plt.title('Sum and Mean of Salaries by Employee Type')\n",
    "plt.ylabel('Salary')\n",
    "plt.xlabel('Employee Type')\n",
    "plt.show()\n",
    "privot_Sum_Mean_Count['Count'].plot(kind='bar',figsize=(10,6))\n",
    "plt.title('Number of Employees by Type')\n",
    "plt.ylabel('Count')\n",
    "plt.xlabel('Employee Type')\n",
    "plt.show()\n"
   ]
  },
  {
   "cell_type": "code",
   "execution_count": null,
   "id": "f3e989ef-e934-480f-8368-aaa32f7353e7",
   "metadata": {},
   "outputs": [],
   "source": []
  },
  {
   "cell_type": "code",
   "execution_count": null,
   "id": "e29728aa-4e1f-4151-8c24-c0f5c824b629",
   "metadata": {},
   "outputs": [],
   "source": []
  }
 ],
 "metadata": {
  "kernelspec": {
   "display_name": "Python 3 (ipykernel)",
   "language": "python",
   "name": "python3"
  },
  "language_info": {
   "codemirror_mode": {
    "name": "ipython",
    "version": 3
   },
   "file_extension": ".py",
   "mimetype": "text/x-python",
   "name": "python",
   "nbconvert_exporter": "python",
   "pygments_lexer": "ipython3",
   "version": "3.12.4"
  }
 },
 "nbformat": 4,
 "nbformat_minor": 5
}
